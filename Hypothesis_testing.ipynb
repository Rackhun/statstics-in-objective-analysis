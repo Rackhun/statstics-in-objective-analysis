{
 "cells": [
  {
   "cell_type": "markdown",
   "metadata": {},
   "source": [
    "# Hypothesis testing in Python\n",
    "\n",
    "blog : https://chiricutosnpython.blogspot.com/2020/09/hypothesis-testing-scipy.html\n",
    "\n",
    "> All these are based on lecture notes from Danis Harman (Washington Univ.)\n",
    "> & Objective Analysis class organized by Jinho Yoon (GIST)"
   ]
  },
  {
   "cell_type": "markdown",
   "metadata": {},
   "source": [
    "Before we move on, the data here we use is Nino34 and SOI data.\n",
    "For more details, please refer below links\n",
    "\n",
    "https://www.ncdc.noaa.gov/teleconnections/enso/indicators/sst/\n",
    "<br>\n",
    "https://www.ncdc.noaa.gov/teleconnections/enso/indicators/soi/"
   ]
  },
  {
   "cell_type": "code",
   "execution_count": 1,
   "metadata": {},
   "outputs": [],
   "source": [
    "# libraries\n",
    "import numpy as np\n",
    "import pandas as pd\n",
    "import matplotlib.pyplot as plt\n",
    "\n",
    "# load data\n",
    "# https://psl.noaa.gov/data/correlation/nina34.data\n",
    "# https://psl.noaa.gov/data/correlation/soi.data\n",
    "\n",
    "nino34 = pd.read_csv('./data/nino34.csv',\n",
    "        names=['year', 'Jan', 'Feb', 'Mar', 'Apr', 'May', 'Jun', 'Jul', 'Aug', 'Sep', 'Oct', 'Nov', 'Dec'],\n",
    "        index_col='year')\n",
    "soi    = pd.read_csv('./data/soi.csv',\n",
    "        names=['year', 'Jan', 'Feb', 'Mar', 'Apr', 'May', 'Jun', 'Jul', 'Aug', 'Sep', 'Oct', 'Nov', 'Dec'],\n",
    "        index_col='year')\n",
    "\n",
    "# remove NaN values \n",
    "# there are acutally many other ways to deal with NaN values. \n",
    "# here, we simply remove all the NaN values\n",
    "\n",
    "nino34[nino34 == -99.99], soi[soi == -99.99] = np.nan, np.nan\n",
    "nino34, soi = nino34.dropna().reset_index(drop=True), soi.dropna().reset_index(drop=True)"
   ]
  },
  {
   "cell_type": "markdown",
   "metadata": {},
   "source": [
    "## 0. Hypothesis testing\n",
    "\n",
    "- In using statistical significance test, there are five basic steps that should be followed in order.\n",
    "    \n",
    "    1. State the significance level\n",
    "    \n",
    "    2. State the null hypothesis ${H_0}$ and its alternative ${H_1}$\n",
    "    \n",
    "    3. State the static used\n",
    "    \n",
    "    4. State the critical region\n",
    "    \n",
    "    5. Evaluate the statistic and state the conclusion.\n",
    "\n",
    "<br>    \n",
    "<br>\n",
    "- For example, in a sample of 10 winters, the mean January temperature is 42 degF and the standard deviation is 5 degF. What are the 95% confidence limits on the true mean January temperature?\n",
    "<br><br>   \n",
    "1. Desired confidence level is 95%.\n",
    "<br>\n",
    "2. ${H_0}$: the true mean is between 42 ${\\pm}$ ${\\Delta}$T\n",
    "   <br>&emsp;${H_1}$: it is outside this region\n",
    "<br>\n",
    "3. We will use ${t}$ statistic.\n",
    "<br>\n",
    "4.The critical region is ${|t| < t_{0.025}}$, which is for ${n=N-1=9}$ is ${|t|<2.26}$. Stated in terms of confirence limits on\n",
    "<br>&emsp;the mean we have \n",
    "$${\\bar{x}-2.26\\frac{s}{\\sqrt{N-1}} < u < \\bar{x}+2.26\\frac{s}{\\sqrt{N-1}}}$$<br>\n",
    "5. Putting in the numbers we get ${38.23 < u < 45.77}$. We have 95% certainty that the true mean lies between these <br>&emsp;values.    \n",
    "<br><br>\n",
    " ________________________________________________________________________________________________"
   ]
  },
  {
   "cell_type": "markdown",
   "metadata": {},
   "source": [
    "## 1. Normality Tests\n",
    "\n",
    "- It is known that many geophysical variables are approximately normally distributed. However, an appropriate statistical method can be different for the test depending on whether the data follows a normal distribution or not. Thus, it should be preceded to check normality in the data.\n",
    "\n",
    "<br>\n",
    "<br>\n",
    "There are 3 normality test methods to check normality.\n",
    "<br><br>\n",
    "1. ${Shapiro-Wilk}$ ${Test}$\n",
    "<br>\n",
    "2. ${D'Agostino's}$ ${K^2}$ ${Test}$\n",
    "<br>\n",
    "3. ${Anderson-Darling}$ ${Test}$\n",
    "<br><br>   \n",
    "    \n",
    "- Assummptions\n",
    "    * All of them assumes that samples in data are **I**ndependent and **I**dentically **D**istributed (IID).\n",
    "<br><br>\n",
    "- Hypothesis\n",
    "    * ${H_0}$: the data follows normal distribution\n",
    "    * ${H_1}$: the data does not follow normal distribution\n"
   ]
  },
  {
   "cell_type": "markdown",
   "metadata": {},
   "source": [
    "**!!! [Notice] !!!**\n",
    "\n",
    "- **shapiro** works well with multi-dimensional data, like pandas dataframe. But, **normaltest (d'agostinos K^2 test)** and **anderson** requires 1-dimension data format for the entire data.\n",
    "<br>\n",
    "- Plus, **anderson** returns critical values up to significance level, while the others returns p-value."
   ]
  },
  {
   "cell_type": "code",
   "execution_count": 2,
   "metadata": {},
   "outputs": [
    {
     "name": "stdout",
     "output_type": "stream",
     "text": [
      "nino34's p-value from Shapiro-Wilk test : 0.013\n",
      "nino34's p-value from D'Agostino's K^2 test : 0.011\n",
      "from Anderson-Darling test, nino34's statistic is 0.758 and critical value for 99% is 1.087\n"
     ]
    }
   ],
   "source": [
    "from scipy.stats import shapiro, normaltest, anderson\n",
    "\n",
    "stat_shapiro,  p_shapiro  = shapiro(nino34)\n",
    "stat_agostino, p_agostino = normaltest(nino34.values.ravel())\n",
    "results_anderson = anderson(nino34.values.ravel())\n",
    "\n",
    "print(f\"nino34's p-value from Shapiro-Wilk test : {p_shapiro:.3f}\")\n",
    "print(f\"nino34's p-value from D'Agostino's K^2 test : {p_agostino:.3f}\")\n",
    "print(f\"from Anderson-Darling test, nino34's statistic is {results_anderson[0]:.3f} \\\n",
    "and critical value for 99% is {results_anderson[1][4]:.3f}\")"
   ]
  },
  {
   "cell_type": "code",
   "execution_count": 3,
   "metadata": {},
   "outputs": [
    {
     "name": "stdout",
     "output_type": "stream",
     "text": [
      "soi's p-value from Shapiro-Wilk test : 0.003\n",
      "soi's p-value from D'Agostino's K^2 test : 0.002\n",
      "from Anderson-Darling test, soi's statistic is 0.781 and critical value for 99% is 1.087\n"
     ]
    }
   ],
   "source": [
    "stat_shapiro,  p_shapiro  = shapiro(soi)\n",
    "stat_agostino, p_agostino = normaltest(soi.values.ravel())\n",
    "results_anderson = anderson(soi.values.ravel())\n",
    "\n",
    "print(f\"soi's p-value from Shapiro-Wilk test : {p_shapiro:.3f}\")\n",
    "print(f\"soi's p-value from D'Agostino's K^2 test : {p_agostino:.3f}\")\n",
    "print(f\"from Anderson-Darling test, soi's statistic is {results_anderson[0]:.3f} \\\n",
    "and critical value for 99% is {results_anderson[1][4]:.3f}\")"
   ]
  },
  {
   "cell_type": "markdown",
   "metadata": {},
   "source": [
    "- The testing results show that nino34's p-values in the two tests are greater than 0.01, while the sois' are smaller. \n",
    "- In other words, it may not certain that nino34 follows normal distribution in 99% confidence level, but soi does. \n",
    "- If data does not have normal distribution, **non-parametric** statistical hypothesis tests should be preceeded. \n",
    "- Thus, for practice, we seperate soi data for **parametric** statistical hypothesis tests, and nino34 for **non-parametric** statistical hypothesis test.\n",
    "    \n",
    " <br>\n",
    " ________________________________________________________________________________________________"
   ]
  },
  {
   "cell_type": "markdown",
   "metadata": {},
   "source": [
    "## 2. Parametric Statistical Hypothesis Tests\n",
    "\n",
    "- Various methods can be applied up to hypothesis to be analyzed. Here, we introduce 3 most common methods. \n",
    "    <br><br>\n",
    "    1. ${Student's}$ ${t-test}$\n",
    "    ; Tests whether the means of two independent samples are significantly different.\n",
    "    \n",
    "        - Assummptions\n",
    "            * Each sample in data is independent and identically distributted. (IID)\n",
    "            * Each sample in data is normally distributed.\n",
    "            * Each sample in data has same variance.\n",
    "\n",
    "        - Hypothesis\n",
    "\n",
    "            * ${H_0}$: the means of the samples are equal.\n",
    "            * ${H_1}$: the means of the samples are not equal.\n",
    "    <br><br><br>    \n",
    "    2. ${Paired}$ ${Student's}$ ${t-test}$\n",
    "    ; Tests whether the means of two paired samples are significantly different.\n",
    "    \n",
    "        - Assummptions\n",
    "            * Each sample in data is independent and identically distributted. (IID)\n",
    "            * Each sample in data is normally distributed.\n",
    "            * Each sample in data has same variance.\n",
    "            * Each sample in data are paired.\n",
    "       \n",
    "        - Hypothesis\n",
    "\n",
    "            * ${H_0}$: the means of the samples are equal.\n",
    "            * ${H_1}$: the means of the samples are not equal.\n",
    "    <br><br><br>    \n",
    "    3. ${Analysis}$ ${of}$ ${Variance}$ ${Test}$ ${(ANOVA)}$\n",
    "    ; Tests whether the means of two or more independent samples are significantly different.\n",
    "\n",
    "        - Assummptions\n",
    "            * Each sample in data is independent and identically distributted. (IID)\n",
    "            * Each sample in data is normally distributed.\n",
    "            * Each sample in data has same variance.\n",
    "       \n",
    "        - Hypothesis\n",
    "\n",
    "            * ${H_0}$: the means of the samples are equal.\n",
    "            * ${H_1}$: the means of the samples are not equal.\n",
    "    <br><br><br>"
   ]
  },
  {
   "cell_type": "code",
   "execution_count": 4,
   "metadata": {},
   "outputs": [
    {
     "name": "stdout",
     "output_type": "stream",
     "text": [
      "soi's p-value from student t test : 0.248\n",
      "soi's p-value from paired student t test : 0.033\n",
      "soi's p-value from anova test : 0.109\n"
     ]
    }
   ],
   "source": [
    "from scipy.stats import ttest_ind, ttest_rel, f_oneway\n",
    "\n",
    "stat_student, p_student = ttest_ind(soi['Mar'], soi['Apr'])\n",
    "stat_paired,  p_paired  = ttest_rel(soi['Mar'], soi['Sep'])\n",
    "stat_anova,   p_anova   = f_oneway(soi['Mar'], soi['Jun'], soi['Sep'])\n",
    "\n",
    "print(f\"soi's p-value from student t test : {p_student:.3f}\")\n",
    "print(f\"soi's p-value from paired student t test : {p_paired:.3f}\")\n",
    "print(f\"soi's p-value from anova test : {p_anova:.3f}\")"
   ]
  },
  {
   "cell_type": "markdown",
   "metadata": {},
   "source": [
    "## 3. Non-Parametric Statistical Hypothesis Tests\n",
    "\n",
    "- Here, we introduce 4 different methods. \n",
    "    <br><br>\n",
    "    1. ${Mann-Whitney}$ ${U}$ ${test}$\n",
    "    ; Tests whether the distributions of two independent samples are equal or not.\n",
    "    \n",
    "        - Assummptions\n",
    "            * Each sample in data is independent and identically distributted. (IID)\n",
    "            * Each sample in data can be ranked.\n",
    "\n",
    "        - Hypothesis\n",
    "            * ${H_0}$: the distributions of the samples are equal.\n",
    "            * ${H_1}$: the distributions of the samples are not equal.\n",
    "    <br><br><br>      \n",
    "    2. ${Wilcoxon}$ ${Signed-Rank}$ ${test}$\n",
    "    ; Tests whether the distributions of two paired samples are equal or not.\n",
    "    \n",
    "        - Assummptions\n",
    "            * Each sample in data is independent and identically distributted. (IID)\n",
    "            * Each sample in data can be ranked.\n",
    "            * Each sample in data are paired.\n",
    "       \n",
    "        - Hypothesis\n",
    "            * ${H_0}$: the distributions of the samples are equal.\n",
    "            * ${H_1}$: the distributions of the samples are not equal.\n",
    "    <br><br><br>     \n",
    "    3. ${Kruskal-Wallis}$ ${H}$ ${Test}$\n",
    "    ; Tests whether the distributions of two or more independent samples are equal or not.\n",
    "    \n",
    "        - Assummptions\n",
    "            * Each sample in data is independent and identically distributted. (IID)\n",
    "            * Each sample in data can be ranked.\n",
    "       \n",
    "        - Hypothesis\n",
    "            * ${H_0}$: the distributions of all samples are equal.\n",
    "            * ${H_1}$: the distributions of one or more samples are not equal.\n",
    "    <br><br><br>   \n",
    "    4. ${Friedman}$ ${Test}$\n",
    "    ; Tests whether the distributions of two or more paired samples are equal or not.\n",
    "    \n",
    "        - Assummptions\n",
    "            * Each sample in data is independent and identically distributted. (IID)\n",
    "            * Each sample in data can be ranked.\n",
    "            * Each sample in data are paired.\n",
    "       \n",
    "        - Hypothesis\n",
    "            * ${H_0}$: the distributions of all samples are equal.\n",
    "            * ${H_1}$: the distributions of one or more samples are not equal.\n",
    "    <br><br><br>        "
   ]
  },
  {
   "cell_type": "code",
   "execution_count": 5,
   "metadata": {},
   "outputs": [
    {
     "name": "stdout",
     "output_type": "stream",
     "text": [
      "nino34's p-value from mann-whitney test : 0.106\n",
      "nino34's p-value from wilcoxon signed-rank test : 0.000\n",
      "nino34's p-value from kruskal-wallis H test : 0.000\n",
      "nino34's p-value from Friedman test : 0.000\n"
     ]
    }
   ],
   "source": [
    "from scipy.stats import mannwhitneyu, wilcoxon, kruskal, friedmanchisquare\n",
    "\n",
    "stat_mann, p_mann = mannwhitneyu(nino34['Jan'], nino34['Feb'])\n",
    "stat_wilc, p_wilc = wilcoxon(nino34['Feb'], nino34['Mar'])\n",
    "stat_krus, p_krus = kruskal(nino34['Jan'], nino34['Feb'], nino34['Mar'])\n",
    "stat_frie, p_frie = friedmanchisquare(nino34['Jan'], nino34['Feb'], nino34['Mar'])\n",
    "\n",
    "print(f\"nino34's p-value from mann-whitney test : {p_mann:.3f}\")\n",
    "print(f\"nino34's p-value from wilcoxon signed-rank test : {p_wilc:.3f}\")\n",
    "print(f\"nino34's p-value from kruskal-wallis H test : {p_krus:.3f}\")\n",
    "print(f\"nino34's p-value from Friedman test : {p_frie:.3f}\")"
   ]
  }
 ],
 "metadata": {
  "kernelspec": {
   "display_name": "Python [conda env:p3.6_cpu] *",
   "language": "python",
   "name": "conda-env-p3.6_cpu-py"
  },
  "language_info": {
   "codemirror_mode": {
    "name": "ipython",
    "version": 3
   },
   "file_extension": ".py",
   "mimetype": "text/x-python",
   "name": "python",
   "nbconvert_exporter": "python",
   "pygments_lexer": "ipython3",
   "version": "3.6.8"
  }
 },
 "nbformat": 4,
 "nbformat_minor": 4
}
