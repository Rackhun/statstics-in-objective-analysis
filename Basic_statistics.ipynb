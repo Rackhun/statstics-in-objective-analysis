{
 "cells": [
  {
   "cell_type": "markdown",
   "metadata": {},
   "source": [
    "# Basic statistics in Python\n",
    "\n",
    "blog : https://chiricutosnpython.blogspot.com/2020/09/basic-statistics-numpy-pandas-scipy.html\n",
    "\n",
    "> All these are based on lecture notes from Dannis L. Harmman (Washington Univ.)\n",
    "> & Objective Analysis class organized by Jinho Yoon (GIST)"
   ]
  },
  {
   "cell_type": "markdown",
   "metadata": {},
   "source": [
    "Before we move on, the data here we use is Nino34 and SOI data.\n",
    "For more details, please refer below links\n",
    "\n",
    "https://www.ncdc.noaa.gov/teleconnections/enso/indicators/sst/\n",
    "<br>\n",
    "https://www.ncdc.noaa.gov/teleconnections/enso/indicators/soi/"
   ]
  },
  {
   "cell_type": "code",
   "execution_count": 1,
   "metadata": {},
   "outputs": [],
   "source": [
    "# libraries\n",
    "import numpy as np\n",
    "import pandas as pd\n",
    "import matplotlib.pyplot as plt\n",
    "\n",
    "# load data\n",
    "# https://psl.noaa.gov/data/correlation/nina34.data\n",
    "# https://psl.noaa.gov/data/correlation/soi.data\n",
    "\n",
    "nino34 = pd.read_csv('./data/nino34.csv',\n",
    "        names=['year', 'Jan', 'Feb', 'Mar', 'Apr', 'May', 'Jun', 'Jul', 'Aug', 'Sep', 'Oct', 'Nov', 'Dec'],\n",
    "        index_col='year')\n",
    "soi    = pd.read_csv('./data/soi.csv',\n",
    "        names=['year', 'Jan', 'Feb', 'Mar', 'Apr', 'May', 'Jun', 'Jul', 'Aug', 'Sep', 'Oct', 'Nov', 'Dec'],\n",
    "        index_col='year')\n",
    "\n",
    "# remove NaN values \n",
    "# there are acutally many other ways to deal with NaN values. \n",
    "# here, we simply remove all the NaN values\n",
    "\n",
    "nino34[nino34 == -99.99], soi[soi == -99.99] = np.nan, np.nan\n",
    "nino34, soi = nino34.dropna().reset_index(drop=True), soi.dropna().reset_index(drop=True)"
   ]
  },
  {
   "cell_type": "markdown",
   "metadata": {},
   "source": [
    "## 1. Mean & Quantiles\n",
    "\n",
    "- <font size=\"4\">**Mean** is one of the most representative characteristic values about data. This is calculated by adding up all values in dataset, and dividing the total by the number of data points.\n",
    "\n",
    "<font size=\"4\">$$\\bar{x} = \\frac{1}{N}\\sum_{i=1}^N x_i $$\n",
    "    \n",
    "- <font size=\"4\">**Median** is another feature value of data, representing central value in order.\n",
    "     \n",
    "    <font size=\"3\"> ex) 1, 2, 2, **4**, 5, 7, 9\n",
    "<br><br>\n",
    "- <font size=\"4\">**Quantile**s mainly divide dataset into 4 parts to describe its distribution. Actually the second quantile is **median**. Those quantiles are 25, 50 and 75 **percentile** values, and particular **percentile** value is also used depending on data.       <img src=\"./figure/quantile.png\" width=\"500\">"
   ]
  },
  {
   "cell_type": "markdown",
   "metadata": {},
   "source": [
    "## Mean"
   ]
  },
  {
   "cell_type": "code",
   "execution_count": 2,
   "metadata": {},
   "outputs": [
    {
     "name": "stdout",
     "output_type": "stream",
     "text": [
      "Monthly Mean\n",
      "Jan    26.422143\n",
      "Feb    26.630714\n",
      "Mar    27.128286\n",
      "Apr    27.576857\n",
      "May    27.697286\n",
      "Jun    27.509143\n",
      "Jul    27.081143\n",
      "Aug    26.676714\n",
      "Sep    26.570000\n",
      "Oct    26.546143\n",
      "Nov    26.532286\n",
      "Dec    26.474714\n",
      "dtype: float64\n",
      "\n",
      "\n",
      "Mean of all data\n",
      "26.903785714285714\n"
     ]
    }
   ],
   "source": [
    "# monthly mean (pandas)\n",
    "print('Monthly Mean')\n",
    "print(nino34.mean())\n",
    "print('\\n')\n",
    "\n",
    "# total mean (numpy)\n",
    "print('Mean of all data')\n",
    "print(np.mean(nino34.values))"
   ]
  },
  {
   "cell_type": "markdown",
   "metadata": {},
   "source": [
    "## Median"
   ]
  },
  {
   "cell_type": "code",
   "execution_count": 3,
   "metadata": {},
   "outputs": [
    {
     "name": "stdout",
     "output_type": "stream",
     "text": [
      "Monthly Median\n",
      "Jan    26.250\n",
      "Feb    26.560\n",
      "Mar    27.090\n",
      "Apr    27.535\n",
      "May    27.695\n",
      "Jun    27.565\n",
      "Jul    27.080\n",
      "Aug    26.700\n",
      "Sep    26.455\n",
      "Oct    26.420\n",
      "Nov    26.330\n",
      "Dec    26.370\n",
      "dtype: float64\n",
      "\n",
      "\n",
      "Median of all data\n",
      "26.98\n"
     ]
    }
   ],
   "source": [
    "# monthly median (pandas)\n",
    "print('Monthly Median')\n",
    "print(nino34.median())\n",
    "print('\\n')\n",
    "\n",
    "# total median (numpy)\n",
    "print('Median of all data')\n",
    "print(np.median(nino34.values))"
   ]
  },
  {
   "cell_type": "markdown",
   "metadata": {},
   "source": [
    "## Quantiles\n",
    "\n",
    "<font size=\"3\"> **!!! [Notice] !!!**\n",
    "\n",
    "different range for percentile value\n",
    "- Pandas : 0.0 ~ 1.0\n",
    "- Numpy  : 0 ~ 100"
   ]
  },
  {
   "cell_type": "code",
   "execution_count": 4,
   "metadata": {},
   "outputs": [
    {
     "name": "stdout",
     "output_type": "stream",
     "text": [
      "Monthly Median\n",
      "Jan    25.6625\n",
      "Feb    26.0550\n",
      "Mar    26.6025\n",
      "Apr    27.1225\n",
      "May    27.2000\n",
      "Jun    27.0500\n",
      "Jul    26.6350\n",
      "Aug    26.2150\n",
      "Sep    25.9200\n",
      "Oct    25.7950\n",
      "Nov    25.6025\n",
      "Dec    25.6350\n",
      "Name: 0.25, dtype: float64\n",
      "\n",
      "\n",
      "Median of all data\n",
      "26.22\n"
     ]
    }
   ],
   "source": [
    "# monthly 1st quantile (25%, pandas)\n",
    "print('Monthly Median')\n",
    "print(nino34.quantile(0.25))\n",
    "print('\\n')\n",
    "\n",
    "# total 1st quantile (25%, numpy)\n",
    "print('Median of all data')\n",
    "print(np.percentile(nino34.values, q=25))"
   ]
  },
  {
   "cell_type": "markdown",
   "metadata": {},
   "source": [
    "- <font size=\"4\">In pandas, **describe** function summarize these all basic statistics of data"
   ]
  },
  {
   "cell_type": "code",
   "execution_count": 5,
   "metadata": {},
   "outputs": [
    {
     "data": {
      "text/html": [
       "<div>\n",
       "<style scoped>\n",
       "    .dataframe tbody tr th:only-of-type {\n",
       "        vertical-align: middle;\n",
       "    }\n",
       "\n",
       "    .dataframe tbody tr th {\n",
       "        vertical-align: top;\n",
       "    }\n",
       "\n",
       "    .dataframe thead th {\n",
       "        text-align: right;\n",
       "    }\n",
       "</style>\n",
       "<table border=\"1\" class=\"dataframe\">\n",
       "  <thead>\n",
       "    <tr style=\"text-align: right;\">\n",
       "      <th></th>\n",
       "      <th>Jan</th>\n",
       "      <th>Feb</th>\n",
       "      <th>Mar</th>\n",
       "      <th>Apr</th>\n",
       "      <th>May</th>\n",
       "      <th>Jun</th>\n",
       "      <th>Jul</th>\n",
       "      <th>Aug</th>\n",
       "      <th>Sep</th>\n",
       "      <th>Oct</th>\n",
       "      <th>Nov</th>\n",
       "      <th>Dec</th>\n",
       "    </tr>\n",
       "  </thead>\n",
       "  <tbody>\n",
       "    <tr>\n",
       "      <th>count</th>\n",
       "      <td>70.000000</td>\n",
       "      <td>70.000000</td>\n",
       "      <td>70.000000</td>\n",
       "      <td>70.000000</td>\n",
       "      <td>70.000000</td>\n",
       "      <td>70.000000</td>\n",
       "      <td>70.000000</td>\n",
       "      <td>70.000000</td>\n",
       "      <td>70.000000</td>\n",
       "      <td>70.000000</td>\n",
       "      <td>70.000000</td>\n",
       "      <td>70.000000</td>\n",
       "    </tr>\n",
       "    <tr>\n",
       "      <th>mean</th>\n",
       "      <td>26.422143</td>\n",
       "      <td>26.630714</td>\n",
       "      <td>27.128286</td>\n",
       "      <td>27.576857</td>\n",
       "      <td>27.697286</td>\n",
       "      <td>27.509143</td>\n",
       "      <td>27.081143</td>\n",
       "      <td>26.676714</td>\n",
       "      <td>26.570000</td>\n",
       "      <td>26.546143</td>\n",
       "      <td>26.532286</td>\n",
       "      <td>26.474714</td>\n",
       "    </tr>\n",
       "    <tr>\n",
       "      <th>std</th>\n",
       "      <td>1.115113</td>\n",
       "      <td>0.920177</td>\n",
       "      <td>0.706506</td>\n",
       "      <td>0.621388</td>\n",
       "      <td>0.625867</td>\n",
       "      <td>0.630892</td>\n",
       "      <td>0.695954</td>\n",
       "      <td>0.787570</td>\n",
       "      <td>0.880173</td>\n",
       "      <td>1.023364</td>\n",
       "      <td>1.120778</td>\n",
       "      <td>1.156448</td>\n",
       "    </tr>\n",
       "    <tr>\n",
       "      <th>min</th>\n",
       "      <td>24.460000</td>\n",
       "      <td>25.060000</td>\n",
       "      <td>25.840000</td>\n",
       "      <td>26.280000</td>\n",
       "      <td>26.180000</td>\n",
       "      <td>25.990000</td>\n",
       "      <td>25.560000</td>\n",
       "      <td>25.220000</td>\n",
       "      <td>25.050000</td>\n",
       "      <td>24.410000</td>\n",
       "      <td>24.250000</td>\n",
       "      <td>24.330000</td>\n",
       "    </tr>\n",
       "    <tr>\n",
       "      <th>25%</th>\n",
       "      <td>25.662500</td>\n",
       "      <td>26.055000</td>\n",
       "      <td>26.602500</td>\n",
       "      <td>27.122500</td>\n",
       "      <td>27.200000</td>\n",
       "      <td>27.050000</td>\n",
       "      <td>26.635000</td>\n",
       "      <td>26.215000</td>\n",
       "      <td>25.920000</td>\n",
       "      <td>25.795000</td>\n",
       "      <td>25.602500</td>\n",
       "      <td>25.635000</td>\n",
       "    </tr>\n",
       "    <tr>\n",
       "      <th>50%</th>\n",
       "      <td>26.250000</td>\n",
       "      <td>26.560000</td>\n",
       "      <td>27.090000</td>\n",
       "      <td>27.535000</td>\n",
       "      <td>27.695000</td>\n",
       "      <td>27.565000</td>\n",
       "      <td>27.080000</td>\n",
       "      <td>26.700000</td>\n",
       "      <td>26.455000</td>\n",
       "      <td>26.420000</td>\n",
       "      <td>26.330000</td>\n",
       "      <td>26.370000</td>\n",
       "    </tr>\n",
       "    <tr>\n",
       "      <th>75%</th>\n",
       "      <td>27.165000</td>\n",
       "      <td>27.125000</td>\n",
       "      <td>27.470000</td>\n",
       "      <td>28.030000</td>\n",
       "      <td>28.240000</td>\n",
       "      <td>27.982500</td>\n",
       "      <td>27.535000</td>\n",
       "      <td>27.057500</td>\n",
       "      <td>27.135000</td>\n",
       "      <td>27.347500</td>\n",
       "      <td>27.332500</td>\n",
       "      <td>27.285000</td>\n",
       "    </tr>\n",
       "    <tr>\n",
       "      <th>max</th>\n",
       "      <td>29.110000</td>\n",
       "      <td>29.010000</td>\n",
       "      <td>28.900000</td>\n",
       "      <td>29.020000</td>\n",
       "      <td>28.980000</td>\n",
       "      <td>28.900000</td>\n",
       "      <td>28.860000</td>\n",
       "      <td>28.790000</td>\n",
       "      <td>28.930000</td>\n",
       "      <td>29.080000</td>\n",
       "      <td>29.420000</td>\n",
       "      <td>29.260000</td>\n",
       "    </tr>\n",
       "  </tbody>\n",
       "</table>\n",
       "</div>"
      ],
      "text/plain": [
       "             Jan        Feb        Mar        Apr        May        Jun  \\\n",
       "count  70.000000  70.000000  70.000000  70.000000  70.000000  70.000000   \n",
       "mean   26.422143  26.630714  27.128286  27.576857  27.697286  27.509143   \n",
       "std     1.115113   0.920177   0.706506   0.621388   0.625867   0.630892   \n",
       "min    24.460000  25.060000  25.840000  26.280000  26.180000  25.990000   \n",
       "25%    25.662500  26.055000  26.602500  27.122500  27.200000  27.050000   \n",
       "50%    26.250000  26.560000  27.090000  27.535000  27.695000  27.565000   \n",
       "75%    27.165000  27.125000  27.470000  28.030000  28.240000  27.982500   \n",
       "max    29.110000  29.010000  28.900000  29.020000  28.980000  28.900000   \n",
       "\n",
       "             Jul        Aug        Sep        Oct        Nov        Dec  \n",
       "count  70.000000  70.000000  70.000000  70.000000  70.000000  70.000000  \n",
       "mean   27.081143  26.676714  26.570000  26.546143  26.532286  26.474714  \n",
       "std     0.695954   0.787570   0.880173   1.023364   1.120778   1.156448  \n",
       "min    25.560000  25.220000  25.050000  24.410000  24.250000  24.330000  \n",
       "25%    26.635000  26.215000  25.920000  25.795000  25.602500  25.635000  \n",
       "50%    27.080000  26.700000  26.455000  26.420000  26.330000  26.370000  \n",
       "75%    27.535000  27.057500  27.135000  27.347500  27.332500  27.285000  \n",
       "max    28.860000  28.790000  28.930000  29.080000  29.420000  29.260000  "
      ]
     },
     "execution_count": 5,
     "metadata": {},
     "output_type": "execute_result"
    }
   ],
   "source": [
    "nino34.describe()"
   ]
  },
  {
   "cell_type": "markdown",
   "metadata": {},
   "source": [
    "<br>\n",
    " ___________________________________________________________________________________________________________________"
   ]
  },
  {
   "cell_type": "markdown",
   "metadata": {},
   "source": [
    "## 2. Variance & higher moments\n",
    "\n",
    "- <font size=\"4\">**Variance** measures how data is spread out from the **mean** value by calculating the expectation of the squared deviation. The division by N-1 instead of the expected N is to obtain an unbiased estimate of the variance.\n",
    "\n",
    "<font size=\"4\">$$\\bar{(x')^2} = \\frac{1}{N-1}\\sum_{i=1}^N (x_i-\\bar{x})^2 $$\n",
    "    \n",
    "- <font size=\"4\">**Standard Deviation** is the positive square root of the variance.\n",
    "<br><br>\n",
    "<font size=\"4\">$$standard \\ deviation = \\sqrt{variance} $$\n",
    "<br><br>\n",
    "- <font size=\"4\">**Moment**s in statistics describes something related to the central value of data. \n",
    "    \n",
    "    <font size=\"3\"> The general fomular for the sth moment is, $$\\frac{x_1^s + x_2^s + x_3^s ... + x_n^s}{N}$$\n",
    "    <font size=\"3\"> If we set s=1, the result is identical to **mean**.\n",
    "    <br><br>\n",
    "    <font size=\"3\"> Here, we slightly modify the formula to see the sth moment about the **mean**, \n",
    "    <br><br>\n",
    "    $$\\frac{(x_1-\\bar{x})^s + (x_2-\\bar{x})^s + (x_3-\\bar{x})^s ... + (x_n-\\bar{x})^s}{N}$$\n",
    "    <br><br>\n",
    "    <font size=\"3\"> Then, the first moment (s=1) about the mean is 0 and the second moment (s=2) is **variance**.\n",
    "    <br><br>\n",
    "    <font size=\"3\"> The third (s=3) moment is called **skewness** indicates the degree of asymmetry of the distribution about the mean. If data has positive **skewness**, its distribution shows a long tail on the positive side of the mean, and vice versa. If the data is exactly symmetric, like a Normal distribution, **skewness** is 0.\n",
    "    <br><br>\n",
    "    <img src=\"./figure/skewness.png\" width=\"600\" ><font size=\"2\"><center> https://en.wikipedia.org/wiki/Skewness></center>\n",
    "    <br><br>    \n",
    "    <font size=\"3\"> The fourth (s=4) moment is called **kurtosis** indicates the degree to which the distribution is spread about the mean value. In other words, it measures the thickness of the tails of the distribution. If data is more evenly scattered from the mean (very flat shape), the **kurtosis** is higher. In many statistics packages, the **kurtosis** has the value compared(subtracted) to the Normal distribution, which is 3.        \n",
    "    <img src=\"./figure/kurtosis.png\" width=\"500\" ><font size=\"2\"><center> https://www.statext.com/android/kurtosis.html"
   ]
  },
  {
   "cell_type": "markdown",
   "metadata": {},
   "source": [
    "## Variance\n",
    "\n",
    "<font size=\"3\"> **!!! [Notice] !!!**\n",
    "    \n",
    "Pandas uses the unbiased estimator (**N-1** in the denominator), but\n",
    "    \n",
    "Numpy does use **N**. To make them behave the same, you should set **ddof=1** to np.var."
   ]
  },
  {
   "cell_type": "code",
   "execution_count": 6,
   "metadata": {},
   "outputs": [
    {
     "name": "stdout",
     "output_type": "stream",
     "text": [
      "Monthly variance\n",
      "Jan    1.243478\n",
      "Feb    0.846726\n",
      "Mar    0.499151\n",
      "Apr    0.386123\n",
      "May    0.391710\n",
      "Jun    0.398025\n",
      "Jul    0.484352\n",
      "Aug    0.620266\n",
      "Sep    0.774704\n",
      "Oct    1.047273\n",
      "Nov    1.256143\n",
      "Dec    1.337373\n",
      "dtype: float64\n",
      "\n",
      "\n",
      "Variance of all data\n",
      "0.968086008854078\n"
     ]
    }
   ],
   "source": [
    "# monthly variance (pandas)\n",
    "print('Monthly variance')\n",
    "print(nino34.var())\n",
    "print('\\n')\n",
    "\n",
    "# total variance (numpy)\n",
    "print('Variance of all data')\n",
    "print(np.var(nino34.values, ddof=1))"
   ]
  },
  {
   "cell_type": "markdown",
   "metadata": {},
   "source": [
    "## Standard Deviation\n",
    "\n",
    "<font size=\"3\"> **!!! [Notice] !!!**\n",
    "    \n",
    "Pandas uses the unbiased estimator (**N-1** in the denominator), but\n",
    "    \n",
    "Numpy does use **N**. To make them behave the same, you should set **ddof=1** to np.std."
   ]
  },
  {
   "cell_type": "code",
   "execution_count": 7,
   "metadata": {},
   "outputs": [
    {
     "name": "stdout",
     "output_type": "stream",
     "text": [
      "Monthly standard deviation\n",
      "Jan    1.115113\n",
      "Feb    0.920177\n",
      "Mar    0.706506\n",
      "Apr    0.621388\n",
      "May    0.625867\n",
      "Jun    0.630892\n",
      "Jul    0.695954\n",
      "Aug    0.787570\n",
      "Sep    0.880173\n",
      "Oct    1.023364\n",
      "Nov    1.120778\n",
      "Dec    1.156448\n",
      "dtype: float64\n",
      "\n",
      "\n",
      "Standard deviation of all data\n",
      "0.983913618593664\n"
     ]
    }
   ],
   "source": [
    "# monthly standard deviation (pandas)\n",
    "print('Monthly standard deviation')\n",
    "print(nino34.std())\n",
    "print('\\n')\n",
    "\n",
    "# total standard deviation (numpy)\n",
    "print('Standard deviation of all data')\n",
    "print(np.std(nino34.values, ddof=1))"
   ]
  },
  {
   "cell_type": "markdown",
   "metadata": {},
   "source": [
    "## Skewness\n",
    "\n",
    "<font size=\"3\"> **!!! [Notice] !!!**\n",
    "\n",
    "Unfortunately, Numpy does not support skewness function. Instead, we can use **Scipy** library.\n",
    "<br><br>\n",
    "Pandas uses the unbiased estimator (**N-1** in the denominator).\n",
    "    \n",
    "For the same way, skew function in Scipy should be set **bias=False**.\n",
    "    \n",
    "The skew in Scipy also supports calculation for particular axis like pandas.\n",
    "<br>\n",
    "If you want to calculate over the whole data, set **axis=None**. "
   ]
  },
  {
   "cell_type": "code",
   "execution_count": 8,
   "metadata": {},
   "outputs": [
    {
     "name": "stdout",
     "output_type": "stream",
     "text": [
      "Monthly skewness\n",
      "Jan    0.358471\n",
      "Feb    0.500691\n",
      "Mar    0.425283\n",
      "Apr    0.038225\n",
      "May   -0.045313\n",
      "Jun   -0.139468\n",
      "Jul    0.234307\n",
      "Aug    0.426769\n",
      "Sep    0.481554\n",
      "Oct    0.320728\n",
      "Nov    0.336872\n",
      "Dec    0.338822\n",
      "dtype: float64\n",
      "\n",
      "\n",
      "Skewness for all data\n",
      "-0.11555619173698659\n"
     ]
    }
   ],
   "source": [
    "# monthly skewness (pandas)\n",
    "print('Monthly skewness')\n",
    "print(nino34.skew())\n",
    "print('\\n')\n",
    "\n",
    "# total skewness (scipy)\n",
    "from scipy.stats import skew\n",
    "print('Skewness for all data')\n",
    "print(skew(nino34.values, bias=False, axis=None))"
   ]
  },
  {
   "cell_type": "markdown",
   "metadata": {},
   "source": [
    "## Kurtosis\n",
    "\n",
    "<font size=\"3\"> **!!! [Notice] !!!**\n",
    "\n",
    "Like skewness, Numpy does not support kurtosis function. Again, we can use **Scipy** library.\n",
    "<br><br>\n",
    "Pandas uses the unbiased estimator (**N-1** in the denominator).\n",
    "    \n",
    "For the same way,  kurtosis function in Scipy should be set **bias=False**.\n",
    "    \n",
    "The kurtosis in Scipy also supports calculation also particular axis like pandas.\n",
    "<br>\n",
    "If you want to calculate over the whole data, set **axis=None**. "
   ]
  },
  {
   "cell_type": "code",
   "execution_count": 9,
   "metadata": {},
   "outputs": [
    {
     "name": "stdout",
     "output_type": "stream",
     "text": [
      "Monthly kurtosis\n",
      "Jan   -0.266314\n",
      "Feb    0.024429\n",
      "Mar   -0.100408\n",
      "Apr   -0.636076\n",
      "May   -0.658078\n",
      "Jun   -0.372192\n",
      "Jul   -0.022246\n",
      "Aug    0.238044\n",
      "Sep    0.080617\n",
      "Oct   -0.126925\n",
      "Nov   -0.247818\n",
      "Dec   -0.519194\n",
      "dtype: float64\n",
      "\n",
      "\n",
      "Kuttodid for all data\n",
      "-0.3742783798162459\n"
     ]
    }
   ],
   "source": [
    "# monthly kurtosis (pandas)\n",
    "print('Monthly kurtosis')\n",
    "print(nino34.kurtosis())\n",
    "print('\\n')\n",
    "\n",
    "# total kurtosis (scipy)\n",
    "from scipy.stats import kurtosis\n",
    "print('Kuttodid for all data')\n",
    "print(kurtosis(nino34.values, bias=False, axis=None))"
   ]
  },
  {
   "cell_type": "code",
   "execution_count": null,
   "metadata": {},
   "outputs": [],
   "source": []
  }
 ],
 "metadata": {
  "kernelspec": {
   "display_name": "Python [conda env:p3.6_cpu] *",
   "language": "python",
   "name": "conda-env-p3.6_cpu-py"
  },
  "language_info": {
   "codemirror_mode": {
    "name": "ipython",
    "version": 3
   },
   "file_extension": ".py",
   "mimetype": "text/x-python",
   "name": "python",
   "nbconvert_exporter": "python",
   "pygments_lexer": "ipython3",
   "version": "3.6.8"
  }
 },
 "nbformat": 4,
 "nbformat_minor": 4
}
